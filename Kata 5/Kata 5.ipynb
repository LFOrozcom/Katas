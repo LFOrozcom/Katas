{
 "cells": [
  {
   "cell_type": "code",
   "execution_count": 40,
   "metadata": {},
   "outputs": [
    {
     "name": "stdout",
     "output_type": "stream",
     "text": [
      "La distancia entre planetas es: 628949330 km\n",
      "O bien 390810995.0389724 millas\n"
     ]
    }
   ],
   "source": [
    "tierra=149597870\n",
    "jupiter=778547200\n",
    "distancia= jupiter-tierra\n",
    "distancia_millas= distancia/1.609344\n",
    "print(\"La distancia entre planetas es: \"+ str(distancia) + \" km\")\n",
    "print(\"O bien \"+ str(distancia_millas)+ \" millas\")"
   ]
  },
  {
   "cell_type": "markdown",
   "metadata": {},
   "source": [
    "# Ejercicio 2\n"
   ]
  },
  {
   "cell_type": "code",
   "execution_count": 41,
   "metadata": {},
   "outputs": [],
   "source": [
    "primer_planeta = input('Introduzca la distancia del sol para el primer planeta en KM')\n",
    "segundo_planeta = input('Introduzca la distancia desde el sol para el segundo planeta en KM')"
   ]
  },
  {
   "cell_type": "code",
   "execution_count": 42,
   "metadata": {},
   "outputs": [],
   "source": [
    "primer_planeta= int(primer_planeta)\n",
    "segundo_planeta= int(segundo_planeta)\n"
   ]
  },
  {
   "cell_type": "code",
   "execution_count": 43,
   "metadata": {},
   "outputs": [
    {
     "name": "stdout",
     "output_type": "stream",
     "text": [
      "La distancia en kilometros es:\n",
      "109200148\n",
      "La distancia en millas es: \n",
      "67853826.15525332\n"
     ]
    }
   ],
   "source": [
    "distancia_km= primer_planeta-segundo_planeta\n",
    "print(\"La distancia en kilometros es:\")\n",
    "print(abs(distancia_km))\n",
    "distancia_mll= distancia_km/1.609344\n",
    "print(\"La distancia en millas es: \")\n",
    "print(abs(distancia_mll))\n",
    "\n",
    "\n"
   ]
  }
 ],
 "metadata": {
  "interpreter": {
   "hash": "dedad998abb9ef9169577f3e25975790870b5582f57daf53cab31793e4ec7952"
  },
  "kernelspec": {
   "display_name": "Python 3.10.2 64-bit",
   "language": "python",
   "name": "python3"
  },
  "language_info": {
   "codemirror_mode": {
    "name": "ipython",
    "version": 3
   },
   "file_extension": ".py",
   "mimetype": "text/x-python",
   "name": "python",
   "nbconvert_exporter": "python",
   "pygments_lexer": "ipython3",
   "version": "3.10.2"
  },
  "orig_nbformat": 4
 },
 "nbformat": 4,
 "nbformat_minor": 2
}
